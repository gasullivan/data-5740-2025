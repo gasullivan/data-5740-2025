{
 "metadata": {
  "kernelspec": {
   "display_name": "Streamlit Notebook",
   "name": "streamlit"
  },
  "lastEditStatus": {
   "notebookId": "5wdzbn5vdrevro6c4jj4",
   "authorId": "1043139642183",
   "authorName": "GASULLIVAN",
   "authorEmail": "sullivangregorya@wustl.edu",
   "sessionId": "af5e54b8-3ee9-4e0b-b8b7-058569f5f90e",
   "lastEditTime": 1757032177832
  }
 },
 "nbformat_minor": 5,
 "nbformat": 4,
 "cells": [
  {
   "cell_type": "code",
   "id": "c80d6eb0-6f89-4d59-ab45-da2b61a211d6",
   "metadata": {
    "language": "sql",
    "name": "year_city"
   },
   "outputs": [],
   "source": "// What is the number of patient encounters by year and city?\nUSE DATABASE HCLS;\nSELECT\nYEAR (encounter_start) AS encounter_year,\nsynthea_city,\nCOUNT(*) AS number_of_encounters\nFROM\nSILVER.ENCOUNTERS\nGROUP BY\nYEAR (encounter_start),\nsynthea_city\nORDER BY\nencounter_year,\nsynthea_city;",
   "execution_count": null
  },
  {
   "cell_type": "code",
   "id": "8aadaac5-1370-4926-b7b8-3e8ad360d182",
   "metadata": {
    "language": "python",
    "name": "cell1"
   },
   "outputs": [],
   "source": "year_city_df = year_city.to_pandas()\nprint(year_city_df.head())\n",
   "execution_count": null
  },
  {
   "cell_type": "code",
   "id": "fe7924d6-564a-47bf-bd9d-c7799fa6dc4e",
   "metadata": {
    "language": "python",
    "name": "cell2"
   },
   "outputs": [],
   "source": "import seaborn as sns\nimport matplotlib.pyplot as plt\n\nplt.figure(figsize=(12,6))\nsns.barplot(\n    data=year_city_df,\n    x=\"ENCOUNTER_YEAR\",\n    y=\"NUMBER_OF_ENCOUNTERS\",\n    hue=\"SYNTHEA_CITY\"\n)\n\nplt.title(\"Number of Patient Encounters by Year and City\")\nplt.xlabel(\"Year\")\nplt.ylabel(\"Number of Encounters\")\nplt.legend(title=\"City\")\nplt.tight_layout()\nplt.show()",
   "execution_count": null
  },
  {
   "cell_type": "code",
   "id": "2b12d8a0-7c75-4511-adbb-890c8d098d0d",
   "metadata": {
    "language": "python",
    "name": "cell3"
   },
   "outputs": [],
   "source": "import matplotlib.pyplot as plt\n\n# Pivot the data so cities become columns (easier for grouped plots)\npivot_df = year_city_df.pivot(\n    index=\"ENCOUNTER_YEAR\",\n    columns=\"SYNTHEA_CITY\",\n    values=\"NUMBER_OF_ENCOUNTERS\"\n)\n\n# Plot as a grouped bar chart\npivot_df.plot(kind=\"bar\", figsize=(12,6))\n\nplt.title(\"Number of Patient Encounters by Year and City\")\nplt.xlabel(\"Year\")\nplt.ylabel(\"Number of Encounters\")\nplt.legend(title=\"City\")\nplt.tight_layout()\nplt.show()",
   "execution_count": null
  }
 ]
}