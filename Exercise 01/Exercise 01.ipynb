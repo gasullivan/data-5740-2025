{
 "metadata": {
  "kernelspec": {
   "display_name": "Streamlit Notebook",
   "name": "streamlit"
  },
  "lastEditStatus": {
   "notebookId": "h5xh7cndtclite7wyfs7",
   "authorId": "1043139642183",
   "authorName": "GASULLIVAN",
   "authorEmail": "sullivangregorya@wustl.edu",
   "sessionId": "84b814a6-b703-402d-be0f-99b5e2a718ee",
   "lastEditTime": 1756444418510
  }
 },
 "nbformat_minor": 5,
 "nbformat": 4,
 "cells": [
  {
   "cell_type": "markdown",
   "id": "da9f3d52-b179-4bb7-b631-f1d0b759b2db",
   "metadata": {
    "name": "cell5",
    "collapsed": false
   },
   "source": "Exercise 01\nGreg Sullivan\n\nThis should be completed individually.\nUsing Snowflake, create a new notebook called Exercise 01 and attach it to your GitHub repository as we did with Lab 01 during class. Then complete both the independent and AI-assisted activities below. Push your final version to GitHub using Snowflake before Tuesday at 11:59 PM.\n\nSection 1: Programming\n\n1.\tSuppose that you have a Python list containing integers. Write a function called bucketit(L) that takes this list, creates 10 evenly spaced buckets between the min and max values, and counts the number of items that occur within each of those buckets. The output returned from the function should be a list with tuples in form (min, max, count).\n\nvals = [1, 2, 5, 7, 10, 12, 14, 18, 19, 20, 25, 30, 32, 38, 39, 40]\n\nbucketit(vals)\n\n[(1.0, 4.9, 2),\n\n (4.9, 8.8, 2),\n \n (8.8, 12.7, 2),\n \n (12.7, 16.6, 1),\n \n (16.6, 20.5, 3),\n \n (20.5, 24.4, 0),\n \n (24.4, 28.3, 1),\n \n (28.3, 32.2, 2),\n \n (32.2, 36.1, 0),\n \n (36.1, 40.0, 3)]\n\n"
  },
  {
   "cell_type": "code",
   "id": "8fba5c2d-376d-45a9-bc9f-f529ace72fdd",
   "metadata": {
    "language": "python",
    "name": "cell6"
   },
   "outputs": [],
   "source": "# first function will count the number of values in the list between two numbers, inclusive\ndef count_vals(TheValues, Low, High):\n    TheCount = 0                                    #initialize counter each time to zero\n    for value in TheValues:                         #for each number in the list...\n        if value >= Low and value <= High:          #if it's between our low and high values given, inclusive...\n            TheCount += 1                           #count it\n    return TheCount                                 #when we're done counting, return the count\n    \n# second function creates a list of tuples, with one tuple for each equal range\ndef bucketit(TheVals, BucketCount):                     #inputs are the list of numbers and how many buckets to create\n    MinVal = min(TheVals)                               #find the bottom value in the list\n    MaxVal = max(TheVals)                               #find the top value in the list\n    ValueRange = MaxVal - MinVal                        #determine the full range of the list\n    BucketSize = round(ValueRange / BucketCount, 1)     #determine the equal range given the number of buckets to create - set it to one decimal point\n    \n    Buckets = []                                        #initialize a new list (for our list of tuples we'll be creating)\n    Counter = MinVal                                    #start at the lowest value\n    for i in range(BucketCount):                        #loop through each value in the list\n        CountInRange = 0                                #we're going to count the number of values (function above) in each of the ten equal ranges within the list\n        BottomOfRange = round(Counter, 1)               #for this tuple, determine the bottom of the range\n        TopOfRange = round(Counter + BucketSize, 1)     #for this tuple, determine the top of the ranage\n        CountInRange = count_vals(TheVals, BottomOfRange, TopOfRange)                       #call our function to count how many values in the list are in this range\n        ThisTuple = (round(Counter, 1), round(Counter + BucketSize, 1), CountInRange)       #create a tuple with the low value, high value and number of values in that range\n        Buckets.append(ThisTuple)                                                           #add that tuple to a list\n        Counter += BucketSize                                                               #return the full list of tuples\n    return Buckets\n    \nvals = [1, 2, 5, 7, 10, 12, 14, 18, 19, 20, 25, 30, 32, 38, 39, 40]                         #our original list for this assignment\n\nNumberBuckets = 10                                                                          #the number of equal buckets we are to create\nBucketList = bucketit(vals, NumberBuckets)                                                  #easy now, just call the function to create the list of tuples\nprint(BucketList)                                                                           #print the list of tuples, nice and neat with single digit decimals for ranges and integers for counts\n\n    ",
   "execution_count": null
  },
  {
   "cell_type": "markdown",
   "id": "fb9353ce-bc87-44df-9ace-f713be9f0ebb",
   "metadata": {
    "name": "cell2",
    "collapsed": false
   },
   "source": "Section 2: Programming with AI\n1.\tTake the same assignment from above and plug it into your favorite AI tool.  Put the function the AI created into your Notebook and demonstrate the same test you used for your function. \n2.\tIn a markdown cell answer the following questions:\na.\tDo you get the same results?\nb.\tAre there any parts of the AI-generated code you were unfamiliar with?\nc.\tWhat are some major differences between your code and the AI-generated code?\n3.\tIn another markdown cell, respond to the following question:\na.\tDescribe one way you think you might effectively use AI in this course.\nb.\tWhat are the benefits of doing so?\nc.\tWhat are the risks and challenges (both near term and in the long run) with using AI for this course?\n"
  },
  {
   "cell_type": "markdown",
   "id": "876959e2-aa93-40ef-a114-f2d776f7a422",
   "metadata": {
    "name": "cell1",
    "collapsed": false
   },
   "source": "I provided the following prompts to ChatGPT:\n\nFor Exercise 01 I'd like you to write the bucketit() Python function (using snowflake python, with embedded comments in the code) from the following description:  1. Suppose that you have a Python list containing integers. Write a function called bucketit(L) that takes this list, creates 10 evenly spaced buckets between the min and max values, and counts the number of items that occur within each of those buckets. The output returned from the function should be a list with tuples in form (min, max, count).\n\nvals = [1, 2, 5, 7, 10, 12, 14, 18, 19, 20, 25, 30, 32, 38, 39, 40]\nbucketit(vals)\n\n[(1.0, 4.9, 2),\n (4.9, 8.8, 2),\n (8.8, 12.7, 2),\n (12.7, 16.6, 1),\n (16.6, 20.5, 3),\n (20.5, 24.4, 0),\n (24.4, 28.3, 1),\n (28.3, 32.2, 2),\n (32.2, 36.1, 0),\n (36.1, 40.0, 3)]"
  },
  {
   "cell_type": "markdown",
   "id": "3506d42b-85d7-44df-9f68-3e3ef487b651",
   "metadata": {
    "name": "cell3",
    "collapsed": false
   },
   "source": "It generated the following code..."
  },
  {
   "cell_type": "code",
   "id": "22b7b932-75e9-4ce3-b0a3-f69a838a4999",
   "metadata": {
    "language": "python",
    "name": "cell4"
   },
   "outputs": [],
   "source": "def bucketit(L):\n    \"\"\"\n    Create 10 evenly spaced buckets between the min and max values of a list of integers.\n    Count how many numbers fall into each bucket.\n    Return a list of tuples in the form: (min, max, count).\n    \"\"\"\n\n    # Handle empty list case\n    if not L:\n        return []\n\n    # Find the minimum and maximum values in the list\n    min_val = min(L)\n    max_val = max(L)\n\n    # Define number of buckets\n    bucket_count = 10\n\n    # Calculate the total range of values\n    value_range = max_val - min_val\n\n    # Each bucket spans this many units\n    bucket_size = value_range / bucket_count\n\n    # Store results in a list of tuples\n    results = []\n\n    # Loop through each bucket\n    for i in range(bucket_count):\n        # Calculate the lower and upper bound for this bucket\n        lower = min_val + i * bucket_size\n        upper = min_val + (i + 1) * bucket_size\n\n        # Count values that fall into the bucket\n        # For the last bucket, include the max value as well\n        if i < bucket_count - 1:\n            count = sum(1 for v in L if lower <= v < upper)\n        else:\n            count = sum(1 for v in L if lower <= v <= upper)\n\n        # Append (lower_bound, upper_bound, count) to results\n        # Round bounds to one decimal place\n        results.append((round(lower, 1), round(upper, 1), count))\n\n    return results\n\n\n# Example usage (inside Snowflake Python worksheet)\nvals = [1, 2, 5, 7, 10, 12, 14, 18, 19, 20, 25, 30, 32, 38, 39, 40]\noutput = bucketit(vals)\nprint(output)",
   "execution_count": null
  },
  {
   "cell_type": "markdown",
   "id": "3564b0b6-d893-4f8e-9c3d-303da04d753a",
   "metadata": {
    "name": "cell7",
    "collapsed": false
   },
   "source": "2.\tIn a markdown cell answer the following questions:\n    a.\tDo you get the same results?\n        YES, the exact same list of tuples was created.  It amazes me that ChatGPT can take a description like that and yield the result.  It was A LOT quicker than me, though!\n    b.\tAre there any parts of the AI-generated code you were unfamiliar with?\n        YES, I had to refamiliarize myself with the looping in the sum builtin (or I didn't recall it from my Python training).\n    c.\tWhat are some major differences between your code and the AI-generated code?\n        1. I didn't account for an empty list in my function, that's good coding practice.  Also, I \"brute-force\" counted the number in each range with a separate function for each value.  As mentioned, I was not aware (or forgot) about the sum builtin with internal looping capability.  So, I had to traverse the entire list each time to do the count with a separate function.  It worked, but might not have been as efficient.\n"
  },
  {
   "cell_type": "markdown",
   "id": "c886e4e6-46bd-4090-b702-e2c24583b54d",
   "metadata": {
    "name": "cell8",
    "collapsed": false
   },
   "source": "3.\tIn another markdown cell, respond to the following question:\n    a.\tDescribe one way you think you might effectively use AI in this course.\n        I was amazed at how it got the answer right the first time.  I didn't.  In fact, I mistakenly used a Python builtin for a variable name and it took me an hour to figure out how to restart the snowflake python kernel.  The code looked right, but it wouldn't execute without errors.  Once I renamed some variables and restarted the kernel, it worked.  I had vaguely remembered this same error happening to me, but with Jupyter Notebooks.  That's why in my prompt I mentioned to ChatGPT this is snowflake Python.  My first impression is that it can be great at generating code.  The comments were not as thorough (in my view), the code was more efficient (but not as readable as mine), and it turns out I learned something I didn't know (or forgot) by the code it generated.\n    b.\tWhat are the benefits of doing so?\n        I think the generated code will be much more efficient than I will be at this stage of my Python career.  I'll learn a lot from how ChatGPT generates the code.\n    c.\tWhat are the risks and challenges (both near term and in the long run) with using AI for this course?\n        I learned a lot attempting to code it myself and I also learned a lot from the ChatGPT code.  This was an interesting exercise and I learned something different from both approaches.  The risk in not using it is that there are approaches I can learn from it, that I wouldn't have otherwise thought of.  I suppose, over time, as I become more proficient, that will happen less often.  So, in the long run the risk should subside.  Also, I think my code was much more readable and I always think that's important.  Then again, the ChatGPT code was probably much more efficient.  It would be interesting to run timing tests on both of these approaches to see which one came most quickly to the answer.  Ironically, I'd have to query Google or ChatGPT to remind me of how to capture the timestamps!  For small projects like this, I don't see much risk in using it - provided all code is carefully inspected and documented (by the human).  For bigger projects (in the long run), I'd be concerned the human would simply \"accept\" large parts of code without inspecting every line of it.  This is contradictory.  If I was leading a development team on a large project, on one hand I'd want the time efficiency that comes from code generation.  On the other hand I'd want to know my software engineers inspected every line of code.  I suppose I'd insist on even more thorough testing.  This is all new to me and so much to learn.  I'll be interested in what you think, as well as the others.\n"
  }
 ]
}