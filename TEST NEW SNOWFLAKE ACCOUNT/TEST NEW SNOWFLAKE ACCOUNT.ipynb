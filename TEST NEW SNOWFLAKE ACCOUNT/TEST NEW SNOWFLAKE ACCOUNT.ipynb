{
 "metadata": {
  "kernelspec": {
   "display_name": "Streamlit Notebook",
   "name": "streamlit"
  },
  "lastEditStatus": {
   "notebookId": "hen2phgmwlzfsi55ozrk",
   "authorId": "2206420187358",
   "authorName": "GREGSULLIVAN",
   "authorEmail": "gregsullivan@ciosoglobal.com",
   "sessionId": "4f95f8a4-dcb0-4e55-8c98-c10ea68476d6",
   "lastEditTime": 1761837540463
  }
 },
 "nbformat_minor": 5,
 "nbformat": 4,
 "cells": [
  {
   "cell_type": "code",
   "id": "3775908f-ca36-4846-8f38-5adca39217f2",
   "metadata": {
    "language": "python",
    "name": "cell1"
   },
   "source": "# Import python packages\nimport streamlit as st\nimport pandas as pd\n\nprint(\"New Snowflake Acount\"\n    )\n",
   "execution_count": null,
   "outputs": []
  }
 ]
}