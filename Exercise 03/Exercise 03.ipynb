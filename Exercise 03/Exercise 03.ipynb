{
 "metadata": {
  "kernelspec": {
   "display_name": "Streamlit Notebook",
   "name": "streamlit"
  },
  "lastEditStatus": {
   "notebookId": "lo6t3hhfswoz2fm3yq2y",
   "authorId": "1043139642183",
   "authorName": "GASULLIVAN",
   "authorEmail": "sullivangregorya@wustl.edu",
   "sessionId": "ca80bdfd-f488-4b60-9d8d-6959da51802c",
   "lastEditTime": 1758070104836
  }
 },
 "nbformat_minor": 5,
 "nbformat": 4,
 "cells": [
  {
   "cell_type": "markdown",
   "id": "454dc9c0-6ce1-4e90-b85b-c74b33efe9b1",
   "metadata": {
    "name": "Section1Assignment",
    "collapsed": false
   },
   "source": "Section 1: Analysis\nA friend of yours owns a frozen drink shop. On hot days, she seems extra happy. She says that she sees a line extending around the block and knows that means more sales. However, even before your friend started the business, she always seemed to love summer and thrived in the heat, so you think her jubilant attitude might be intrinsic. She makes a bet with you that sales really are higher on hotter days. She gets data on the sales numbers (in dollars) and the daily temperatures (in degrees Fahrenheit).\n    1.\tWhat is the outcome?\n    2.\tWhat is the main effect/predictor she wants to understand the impact of?\n    3.\tWhat is the hypothesis?\n\nUse the data she collected to conduct an analysis, test the hypothesis, and report results. The dataset is drinks.xlsx. Your analysis should have the following elements:\n    4.\tAn explanation of why the analysis is being conducted and what the hypothesis is\n    5.\tDescriptive information about the data, including summary statistics (such as number \n        of observations, measures of central tendency, & measures of dispersion) and plots of\n        the data distributions\n    6.\tDescriptive information about the relationships between the two variables, including correlation and                  scatterplots\n    7.\tA regression analysis to test the hypothesis. If you have trouble getting the regression analysis to work,            look closely at the data. Your friend wasn’t always able to get sales data for each day. Choose a method to           handle rows with missing data.\n    8.\tA description of the results of the analysis. Included in this description should be an interpretation of \n        the coefficients, description of the goodness of fit, and a discussion of whether the results are                     statistically significant.\n"
  },
  {
   "cell_type": "code",
   "id": "2c2f0c53-aacb-4b80-badd-96e9d09b03d5",
   "metadata": {
    "language": "python",
    "name": "Outcome",
    "collapsed": false,
    "codeCollapsed": false
   },
   "outputs": [],
   "source": "\"\"\"\n1. What is the outcome?\n    The analytical outcome we are trying to predict is sales based on temperature. \n    More importantly, I want to know if the outcome is that I will win the bet!\n\"\"\"",
   "execution_count": null
  },
  {
   "cell_type": "code",
   "id": "075fd9ed-e86e-48fa-a097-ffad0f6a79a4",
   "metadata": {
    "language": "python",
    "name": "Predictor",
    "collapsed": false,
    "codeCollapsed": false
   },
   "outputs": [],
   "source": "\"\"\"\n2. What is the main effect/predictor she wants to understand the impact of?\n    Temperature in degrees (fahrenheit) is the independent variable - our predictor (presumably).\n\"\"\"",
   "execution_count": null
  },
  {
   "cell_type": "code",
   "id": "a8a7692f-6d1f-4a6b-805f-69f0b9051f43",
   "metadata": {
    "language": "python",
    "name": "Hypothesis",
    "collapsed": false,
    "codeCollapsed": false
   },
   "outputs": [],
   "source": "\"\"\"\n3. What is the hypothesis?\n    Null hypothesis (H₀) is that temperature has no effect on sales (the slope coefficient, β = 0).\n    My losing hypothesis (H₁) is that higher temperature leads to higher sales (the slope coefficient, β > 0).\n\"\"\"",
   "execution_count": null
  },
  {
   "cell_type": "markdown",
   "id": "3851ff55-1c2c-44fa-968a-59577d0d57b9",
   "metadata": {
    "name": "ConductingOurAnalysis",
    "collapsed": false
   },
   "source": "In the following cell I have generated several analyses for understanding the data and testing our hypothesis.  Some are analytical and others are attempting to understand potential outcomes/conclusions from the analysis."
  },
  {
   "cell_type": "code",
   "id": "798fc3e8-2502-4ad6-ab2b-99f0d6e04f50",
   "metadata": {
    "language": "python",
    "name": "Section1Python"
   },
   "outputs": [],
   "source": "# imports the various libraries needed for this project\n# I had to add most of these to my snowflake environment\nimport pandas as pd\nimport matplotlib.pyplot as plt\nimport seaborn as sns\nimport statsmodels.api as sm\n\n# load the Excel file (that was already uploaded to the session) into a Pandas dataframe\ndf = pd.read_excel(\"drinks.xlsx\")\n\n# drop rows with missing sales values\ndf_clean = df.dropna(subset=[\"Sales\"])\n\n# show the summary statistics on the clean data\nprint(\"Summary Statistics:\\n\")\nprint(df_clean.describe())\n\n# show the distribution plots for temperature and sales\nfig, axes = plt.subplots(1, 2, figsize=(14, 5))\n\n# first is the temperature distribution\nsns.histplot(df_clean[\"Temperature_F\"], bins=20, kde=True, ax=axes[0], color='orange')\naxes[0].set_title(\"Distribution of Temperature (°F)\")\naxes[0].set_xlabel(\"Temperature (°F)\")\n\n# next is the sales distribution\nsns.histplot(df_clean[\"Sales\"], bins=20, kde=True, ax=axes[1], color='teal')\naxes[1].set_title(\"Distribution of Sales ($)\")\naxes[1].set_xlabel(\"Sales ($)\")\n\n# put them side-by-side\nplt.tight_layout()\nplt.show()\n\n# what is the correlation?\ncorrelation = df_clean[\"Temperature_F\"].corr(df_clean[\"Sales\"])\nprint(f\"\\nCorrelation between Temperature and Sales: {correlation:.3f}\")\n\n# show the scatterplot for our visual\n# I'm looking for outliers and don't see any\nplt.figure(figsize=(8, 6))\nsns.scatterplot(data=df_clean, x=\"Temperature_F\", y=\"Sales\")\nplt.title(\"Sales vs. Temperature\")\nplt.xlabel(\"Temperature (°F)\")\nplt.ylabel(\"Sales ($)\")\nplt.grid(True)\nplt.show()\n\n# calculate the linear regression\nX = sm.add_constant(df_clean[\"Temperature_F\"])  # adds intercept term\ny = df_clean[\"Sales\"]\n\n# show the regression results\nmodel = sm.OLS(y, X).fit()\nprint(\"\\nRegression Results:\\n\")\nprint(model.summary())",
   "execution_count": null
  },
  {
   "cell_type": "markdown",
   "id": "abcd98b3-076d-48ed-bad7-3dce4dee5059",
   "metadata": {
    "name": "Analysis",
    "collapsed": false
   },
   "source": "Section 1: Analysis\n\n4.\tAn explanation of why the analysis is being conducted and what the hypothesis is.\n\nThe analysis is being conducted to evaluate the belief of our friend who owns a frozen drink shop and beliaves that she has higher sales on days when the temperature is higher.  In fact, we've placed a wager on it.  She is wagering the higher temperatures lead to higher drink sales.  We'll examine the data she has provided to determine who wins the wager.  The purpose of the anaylsis is to objectively test this observation using the data provided.  In probability terms our Null Hypothesis (H₀) is that temperature has no effect on sales (slope = 0).  Our Alternative Hypothesis (H₁)) is that higher temperatures lead to higher sales (slope > 0).\n\n5.\tDescriptive information about the data, including summary statistics (such as number of observations, measures of central tendency, & measures of dispersion) and plots of the data distributions.\n\nThe dataset contains 180 observations of daily temperatures and corresponding frozen drink sales.  We also note that there are two missing sales entries. So, we'll need to appropriately \"clean\" our dataset before proceeding with analysis.  Summary statistics are as follows: -\n\nTemperature: Mean = 79.3°F, Std Dev = 10.38, Min = 57, Max = 105 - Sales: Mean = $2,936, Std Dev\n= 399, Min = $1,959, Max = $3,971 Temperature values are approximately normally distributed, while\nsales are slightly skewed to the right. Distribution plots for both variables visually support these findings.\n\n6.\tDescriptive information about the relationships between the two variables, including correlation and scatterplots.\n\nThe Pearson correlation coefficient between temperature and sales is 0.823, indicating a strong positive, linear relationship. A scatterplot of sales versus temperature further (visually) confirms the upward trend, showing that as temperature increases, sales generally rise as well.\n\n\n7.\tA regression analysis to test the hypothesis. If you have trouble getting the regression analysis to work, look closely at the data. Your friend wasn’t always able to get sales data for each day. Choose a method to handle rows with missing data.\n\nTo test the hypothesis, an Ordinary Least Squares (OLS) linear regression was performed using temperature as the independent variable and sales as the dependent variable. Two records with missing sales data were removed before running the regression. The regression model used the following specification: \n\n    Sales = β₀ + β₁ * Temperature + ε\n\n\n8.\tA description of the results of the analysis. Included in this description should be an interpretation of the coefficients, description of the goodness of fit, and a discussion of whether the results are statistically significant.\n\nThe regression output is:\n\t•\tIntercept (β₀): 423.26 (p = 0.002)\n\t•\tTemperature Coefficient (β₁): 31.65 (p < 0.001)\n\nThis means that for every 1°F increase in temperature, sales are expected to increase by approximately $31.65.\n\nThe Goodness of Fit of the model, as measured by the R-squared value (R²), is 0.677. This means that approximately 67.7% of the variation in daily sales can be explained by the variation in temperature. With the R² value close to 1 it indicates a better fit between the model and the data.\n\nTo me, this suggests that temperature is a strong predictor (statistically significant) of frozen drink sales.\n\n[SEE MY CONCLUSION, REGARDING THE WAGER, BELOW IN THE CONCLUSION MARKDOWN CELL.]\n"
  },
  {
   "cell_type": "markdown",
   "id": "c9f60346-c827-44c8-8d8a-77d3aa85c956",
   "metadata": {
    "name": "Conclusion",
    "collapsed": false
   },
   "source": "The model is statistically significant overall, and the coefficients are meaningful and precise (as indicated by low standard errors and small p-values). Therefore, we can confidently reject the null hypothesis and conclude that higher temperatures are strongly associated with increased sales.\n\nHOWEVER, I'm not sure I lost the wager! Do we really know if the reason for higher sales is a higher temperature?  There could be confounding factors.  For example, recall that our shop owner is more jubilent on warmer days.  Could it be possible that her cheerful attitude creates an environment more conducive to employee/customer interaction that leads to higher sales?\n\nIs there a way to test for this?  YES!  We don't have the data now, but it would also be interesting to conduct the same analysis with an indication of whether or not our shop owner was working at that location on a given day.  Furthermore, it might be interesting to somehow know how much customer interaction she had that day.  Alternatively, is it her enthusiastic engagement with her team on warmer days that perks up sales?"
  }
 ]
}